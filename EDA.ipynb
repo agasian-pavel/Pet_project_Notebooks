{
 "cells": [
  {
   "cell_type": "markdown",
   "id": "e5670c68",
   "metadata": {},
   "source": [
    "# EDA"
   ]
  },
  {
   "cell_type": "markdown",
   "id": "8d82957f",
   "metadata": {},
   "source": [
    "## Описание задачи"
   ]
  },
  {
   "cell_type": "markdown",
   "id": "6ee91241",
   "metadata": {},
   "source": [
    "Есть объявления, полученные с сайта cian.ru о стоимости аренды квартир в Москве. Необходимо создать модель для **прогнозирования стоимости аренды**.\n",
    "\n",
    "**Имеющиеся признаки:**\n",
    "target - price - стоиомость аренды\n",
    "- room_count - количество комнат в квартире (0 - квартира-студия)\n",
    "- disctrict - округ Москвы\n",
    "- area - район\n",
    "- street - улица\n",
    "- house - номер дома\n",
    "- metro - ближайшая станция метро\n",
    "- time_metro - время, которое необходимо затратить, чтобы добраться до ближайшей станции метро\n",
    "- transport_type - способ передвижения до метро (пешком или на транспорте)\n",
    "- facilies - удобства (кондиционер, мебель и т. д.) и условия проживания (можно с животными, детьми и т.д.)\n",
    "- floor - этаж, на котором расположена квартира\n",
    "- attic - количество этажей в доме\n",
    "- square - площадь квартиры"
   ]
  },
  {
   "cell_type": "markdown",
   "id": "4009e9c5",
   "metadata": {},
   "source": [
    "## Задача"
   ]
  },
  {
   "cell_type": "code",
   "execution_count": 120,
   "id": "6c7d1351",
   "metadata": {},
   "outputs": [],
   "source": [
    "import pandas as pd\n",
    "from scipy import stats\n",
    "import matplotlib.pyplot as plt\n",
    "import seaborn as sns\n",
    "import numpy as np"
   ]
  },
  {
   "cell_type": "code",
   "execution_count": 33,
   "id": "44df6f8a",
   "metadata": {},
   "outputs": [],
   "source": [
    "df = pd.read_json('cian_data.json')"
   ]
  },
  {
   "cell_type": "code",
   "execution_count": 34,
   "id": "06f1e4dd",
   "metadata": {
    "scrolled": true
   },
   "outputs": [
    {
     "data": {
      "text/html": [
       "<div>\n",
       "<style scoped>\n",
       "    .dataframe tbody tr th:only-of-type {\n",
       "        vertical-align: middle;\n",
       "    }\n",
       "\n",
       "    .dataframe tbody tr th {\n",
       "        vertical-align: top;\n",
       "    }\n",
       "\n",
       "    .dataframe thead th {\n",
       "        text-align: right;\n",
       "    }\n",
       "</style>\n",
       "<table border=\"1\" class=\"dataframe\">\n",
       "  <thead>\n",
       "    <tr style=\"text-align: right;\">\n",
       "      <th></th>\n",
       "      <th>room_count</th>\n",
       "      <th>price</th>\n",
       "      <th>district</th>\n",
       "      <th>area</th>\n",
       "      <th>street</th>\n",
       "      <th>house</th>\n",
       "      <th>metro</th>\n",
       "      <th>time_metro</th>\n",
       "      <th>facilities</th>\n",
       "      <th>floor</th>\n",
       "      <th>attic</th>\n",
       "      <th>square</th>\n",
       "      <th>transport_type</th>\n",
       "    </tr>\n",
       "  </thead>\n",
       "  <tbody>\n",
       "    <tr>\n",
       "      <th>0</th>\n",
       "      <td>3</td>\n",
       "      <td>80000</td>\n",
       "      <td>ЦАО</td>\n",
       "      <td>Пресненский</td>\n",
       "      <td>Мукомольный проезд</td>\n",
       "      <td>2</td>\n",
       "      <td>Шелепиха</td>\n",
       "      <td>10</td>\n",
       "      <td>[Можно с животными, Можно с детьми, Ванна, Сти...</td>\n",
       "      <td>15</td>\n",
       "      <td>36</td>\n",
       "      <td>65</td>\n",
       "      <td>пешком</td>\n",
       "    </tr>\n",
       "    <tr>\n",
       "      <th>1</th>\n",
       "      <td>3</td>\n",
       "      <td>55000</td>\n",
       "      <td>ЦАО</td>\n",
       "      <td>Мещанский</td>\n",
       "      <td>Банный пер.</td>\n",
       "      <td>4С1</td>\n",
       "      <td>Проспект Мира</td>\n",
       "      <td>5</td>\n",
       "      <td>[Можно с животными, Можно с детьми, Ванна, Сти...</td>\n",
       "      <td>7</td>\n",
       "      <td>9</td>\n",
       "      <td>60</td>\n",
       "      <td>пешком</td>\n",
       "    </tr>\n",
       "    <tr>\n",
       "      <th>2</th>\n",
       "      <td>3</td>\n",
       "      <td>220000</td>\n",
       "      <td>ЦАО</td>\n",
       "      <td>Пресненский</td>\n",
       "      <td>Большая Никитская ул.</td>\n",
       "      <td>49</td>\n",
       "      <td>Баррикадная</td>\n",
       "      <td>10</td>\n",
       "      <td>[Можно с детьми, Ванна, Стиральная машина, Пос...</td>\n",
       "      <td>9</td>\n",
       "      <td>14</td>\n",
       "      <td>100</td>\n",
       "      <td>пешком</td>\n",
       "    </tr>\n",
       "    <tr>\n",
       "      <th>3</th>\n",
       "      <td>3</td>\n",
       "      <td>150000</td>\n",
       "      <td>ЦАО</td>\n",
       "      <td>Пресненский</td>\n",
       "      <td>Большой Козихинский пер.</td>\n",
       "      <td>4</td>\n",
       "      <td>Пушкинская</td>\n",
       "      <td>7</td>\n",
       "      <td>[Можно с животными, Можно с детьми, Стиральная...</td>\n",
       "      <td>2</td>\n",
       "      <td>4</td>\n",
       "      <td>80</td>\n",
       "      <td>пешком</td>\n",
       "    </tr>\n",
       "    <tr>\n",
       "      <th>4</th>\n",
       "      <td>3</td>\n",
       "      <td>350000</td>\n",
       "      <td>ЦАО</td>\n",
       "      <td>Арбат</td>\n",
       "      <td>ул. Новый Арбат</td>\n",
       "      <td>32</td>\n",
       "      <td>Смоленская</td>\n",
       "      <td>7</td>\n",
       "      <td>[Можно с животными, Можно с детьми, Ванна, Сти...</td>\n",
       "      <td>4</td>\n",
       "      <td>13</td>\n",
       "      <td>110</td>\n",
       "      <td>пешком</td>\n",
       "    </tr>\n",
       "  </tbody>\n",
       "</table>\n",
       "</div>"
      ],
      "text/plain": [
       "   room_count   price district         area                    street house  \\\n",
       "0           3   80000      ЦАО  Пресненский        Мукомольный проезд     2   \n",
       "1           3   55000      ЦАО    Мещанский               Банный пер.   4С1   \n",
       "2           3  220000      ЦАО  Пресненский     Большая Никитская ул.    49   \n",
       "3           3  150000      ЦАО  Пресненский  Большой Козихинский пер.     4   \n",
       "4           3  350000      ЦАО        Арбат           ул. Новый Арбат    32   \n",
       "\n",
       "           metro  time_metro  \\\n",
       "0       Шелепиха          10   \n",
       "1  Проспект Мира           5   \n",
       "2    Баррикадная          10   \n",
       "3     Пушкинская           7   \n",
       "4     Смоленская           7   \n",
       "\n",
       "                                          facilities  floor  attic  square  \\\n",
       "0  [Можно с животными, Можно с детьми, Ванна, Сти...     15     36      65   \n",
       "1  [Можно с животными, Можно с детьми, Ванна, Сти...      7      9      60   \n",
       "2  [Можно с детьми, Ванна, Стиральная машина, Пос...      9     14     100   \n",
       "3  [Можно с животными, Можно с детьми, Стиральная...      2      4      80   \n",
       "4  [Можно с животными, Можно с детьми, Ванна, Сти...      4     13     110   \n",
       "\n",
       "  transport_type  \n",
       "0         пешком  \n",
       "1         пешком  \n",
       "2         пешком  \n",
       "3         пешком  \n",
       "4         пешком  "
      ]
     },
     "execution_count": 34,
     "metadata": {},
     "output_type": "execute_result"
    }
   ],
   "source": [
    "df.head()"
   ]
  },
  {
   "cell_type": "code",
   "execution_count": 35,
   "id": "4c516981",
   "metadata": {},
   "outputs": [
    {
     "data": {
      "text/plain": [
       "(24387, 13)"
      ]
     },
     "execution_count": 35,
     "metadata": {},
     "output_type": "execute_result"
    }
   ],
   "source": [
    "df.shape"
   ]
  },
  {
   "cell_type": "code",
   "execution_count": 36,
   "id": "4086abc2",
   "metadata": {},
   "outputs": [
    {
     "name": "stdout",
     "output_type": "stream",
     "text": [
      "<class 'pandas.core.frame.DataFrame'>\n",
      "Int64Index: 24387 entries, 0 to 24388\n",
      "Data columns (total 13 columns):\n",
      " #   Column          Non-Null Count  Dtype \n",
      "---  ------          --------------  ----- \n",
      " 0   room_count      24387 non-null  int64 \n",
      " 1   price           24387 non-null  int64 \n",
      " 2   district        24387 non-null  object\n",
      " 3   area            24387 non-null  object\n",
      " 4   street          24387 non-null  object\n",
      " 5   house           24339 non-null  object\n",
      " 6   metro           24042 non-null  object\n",
      " 7   time_metro      24387 non-null  int64 \n",
      " 8   facilities      24387 non-null  object\n",
      " 9   floor           24387 non-null  int64 \n",
      " 10  attic           24387 non-null  int64 \n",
      " 11  square          24387 non-null  int64 \n",
      " 12  transport_type  23645 non-null  object\n",
      "dtypes: int64(6), object(7)\n",
      "memory usage: 2.6+ MB\n"
     ]
    }
   ],
   "source": [
    "df.info()"
   ]
  },
  {
   "cell_type": "code",
   "execution_count": 37,
   "id": "3d68d98c",
   "metadata": {},
   "outputs": [
    {
     "data": {
      "text/plain": [
       "room_count          0\n",
       "price               0\n",
       "district            0\n",
       "area                0\n",
       "street              0\n",
       "house              48\n",
       "metro             345\n",
       "time_metro          0\n",
       "facilities          0\n",
       "floor               0\n",
       "attic               0\n",
       "square              0\n",
       "transport_type    742\n",
       "dtype: int64"
      ]
     },
     "execution_count": 37,
     "metadata": {},
     "output_type": "execute_result"
    }
   ],
   "source": [
    "df.isna().sum()"
   ]
  },
  {
   "cell_type": "code",
   "execution_count": 38,
   "id": "32b9f344",
   "metadata": {
    "scrolled": true
   },
   "outputs": [
    {
     "data": {
      "text/html": [
       "<div>\n",
       "<style scoped>\n",
       "    .dataframe tbody tr th:only-of-type {\n",
       "        vertical-align: middle;\n",
       "    }\n",
       "\n",
       "    .dataframe tbody tr th {\n",
       "        vertical-align: top;\n",
       "    }\n",
       "\n",
       "    .dataframe thead th {\n",
       "        text-align: right;\n",
       "    }\n",
       "</style>\n",
       "<table border=\"1\" class=\"dataframe\">\n",
       "  <thead>\n",
       "    <tr style=\"text-align: right;\">\n",
       "      <th></th>\n",
       "      <th>room_count</th>\n",
       "      <th>price</th>\n",
       "      <th>time_metro</th>\n",
       "      <th>floor</th>\n",
       "      <th>attic</th>\n",
       "      <th>square</th>\n",
       "    </tr>\n",
       "  </thead>\n",
       "  <tbody>\n",
       "    <tr>\n",
       "      <th>count</th>\n",
       "      <td>24387.000000</td>\n",
       "      <td>2.438700e+04</td>\n",
       "      <td>24387.000000</td>\n",
       "      <td>24387.000000</td>\n",
       "      <td>24387.000000</td>\n",
       "      <td>24387.000000</td>\n",
       "    </tr>\n",
       "    <tr>\n",
       "      <th>mean</th>\n",
       "      <td>2.167548</td>\n",
       "      <td>1.082806e+05</td>\n",
       "      <td>9.419363</td>\n",
       "      <td>8.473162</td>\n",
       "      <td>16.028089</td>\n",
       "      <td>88.082421</td>\n",
       "    </tr>\n",
       "    <tr>\n",
       "      <th>std</th>\n",
       "      <td>1.139089</td>\n",
       "      <td>1.554696e+05</td>\n",
       "      <td>6.345109</td>\n",
       "      <td>8.127670</td>\n",
       "      <td>12.686037</td>\n",
       "      <td>1367.136704</td>\n",
       "    </tr>\n",
       "    <tr>\n",
       "      <th>min</th>\n",
       "      <td>0.000000</td>\n",
       "      <td>1.000000e+04</td>\n",
       "      <td>1.000000</td>\n",
       "      <td>1.000000</td>\n",
       "      <td>1.000000</td>\n",
       "      <td>10.000000</td>\n",
       "    </tr>\n",
       "    <tr>\n",
       "      <th>25%</th>\n",
       "      <td>1.000000</td>\n",
       "      <td>4.300000e+04</td>\n",
       "      <td>5.000000</td>\n",
       "      <td>4.000000</td>\n",
       "      <td>9.000000</td>\n",
       "      <td>40.000000</td>\n",
       "    </tr>\n",
       "    <tr>\n",
       "      <th>50%</th>\n",
       "      <td>2.000000</td>\n",
       "      <td>6.000000e+04</td>\n",
       "      <td>9.000000</td>\n",
       "      <td>6.000000</td>\n",
       "      <td>14.000000</td>\n",
       "      <td>55.000000</td>\n",
       "    </tr>\n",
       "    <tr>\n",
       "      <th>75%</th>\n",
       "      <td>3.000000</td>\n",
       "      <td>1.100000e+05</td>\n",
       "      <td>12.000000</td>\n",
       "      <td>11.000000</td>\n",
       "      <td>19.000000</td>\n",
       "      <td>82.000000</td>\n",
       "    </tr>\n",
       "    <tr>\n",
       "      <th>max</th>\n",
       "      <td>6.000000</td>\n",
       "      <td>3.000000e+06</td>\n",
       "      <td>110.000000</td>\n",
       "      <td>84.000000</td>\n",
       "      <td>97.000000</td>\n",
       "      <td>170000.000000</td>\n",
       "    </tr>\n",
       "  </tbody>\n",
       "</table>\n",
       "</div>"
      ],
      "text/plain": [
       "         room_count         price    time_metro         floor         attic  \\\n",
       "count  24387.000000  2.438700e+04  24387.000000  24387.000000  24387.000000   \n",
       "mean       2.167548  1.082806e+05      9.419363      8.473162     16.028089   \n",
       "std        1.139089  1.554696e+05      6.345109      8.127670     12.686037   \n",
       "min        0.000000  1.000000e+04      1.000000      1.000000      1.000000   \n",
       "25%        1.000000  4.300000e+04      5.000000      4.000000      9.000000   \n",
       "50%        2.000000  6.000000e+04      9.000000      6.000000     14.000000   \n",
       "75%        3.000000  1.100000e+05     12.000000     11.000000     19.000000   \n",
       "max        6.000000  3.000000e+06    110.000000     84.000000     97.000000   \n",
       "\n",
       "              square  \n",
       "count   24387.000000  \n",
       "mean       88.082421  \n",
       "std      1367.136704  \n",
       "min        10.000000  \n",
       "25%        40.000000  \n",
       "50%        55.000000  \n",
       "75%        82.000000  \n",
       "max    170000.000000  "
      ]
     },
     "execution_count": 38,
     "metadata": {},
     "output_type": "execute_result"
    }
   ],
   "source": [
    "df.describe()"
   ]
  },
  {
   "cell_type": "code",
   "execution_count": 39,
   "id": "91731e4c",
   "metadata": {
    "scrolled": true
   },
   "outputs": [
    {
     "data": {
      "text/html": [
       "<div>\n",
       "<style scoped>\n",
       "    .dataframe tbody tr th:only-of-type {\n",
       "        vertical-align: middle;\n",
       "    }\n",
       "\n",
       "    .dataframe tbody tr th {\n",
       "        vertical-align: top;\n",
       "    }\n",
       "\n",
       "    .dataframe thead th {\n",
       "        text-align: right;\n",
       "    }\n",
       "</style>\n",
       "<table border=\"1\" class=\"dataframe\">\n",
       "  <thead>\n",
       "    <tr style=\"text-align: right;\">\n",
       "      <th></th>\n",
       "      <th>district</th>\n",
       "      <th>area</th>\n",
       "      <th>street</th>\n",
       "      <th>house</th>\n",
       "      <th>metro</th>\n",
       "      <th>facilities</th>\n",
       "      <th>transport_type</th>\n",
       "    </tr>\n",
       "  </thead>\n",
       "  <tbody>\n",
       "    <tr>\n",
       "      <th>count</th>\n",
       "      <td>24387</td>\n",
       "      <td>24387</td>\n",
       "      <td>24387</td>\n",
       "      <td>24339</td>\n",
       "      <td>24042</td>\n",
       "      <td>24387</td>\n",
       "      <td>23645</td>\n",
       "    </tr>\n",
       "    <tr>\n",
       "      <th>unique</th>\n",
       "      <td>9</td>\n",
       "      <td>120</td>\n",
       "      <td>1860</td>\n",
       "      <td>2305</td>\n",
       "      <td>297</td>\n",
       "      <td>937</td>\n",
       "      <td>2</td>\n",
       "    </tr>\n",
       "    <tr>\n",
       "      <th>top</th>\n",
       "      <td>ЦАО</td>\n",
       "      <td>Пресненский</td>\n",
       "      <td>1-й Красногвардейский проезд</td>\n",
       "      <td>3</td>\n",
       "      <td>Смоленская</td>\n",
       "      <td>[Можно с детьми, Ванна, Стиральная машина, Меб...</td>\n",
       "      <td>пешком</td>\n",
       "    </tr>\n",
       "    <tr>\n",
       "      <th>freq</th>\n",
       "      <td>5241</td>\n",
       "      <td>1596</td>\n",
       "      <td>418</td>\n",
       "      <td>669</td>\n",
       "      <td>341</td>\n",
       "      <td>1382</td>\n",
       "      <td>21517</td>\n",
       "    </tr>\n",
       "  </tbody>\n",
       "</table>\n",
       "</div>"
      ],
      "text/plain": [
       "       district         area                        street  house       metro  \\\n",
       "count     24387        24387                         24387  24339       24042   \n",
       "unique        9          120                          1860   2305         297   \n",
       "top         ЦАО  Пресненский  1-й Красногвардейский проезд      3  Смоленская   \n",
       "freq       5241         1596                           418    669         341   \n",
       "\n",
       "                                               facilities transport_type  \n",
       "count                                               24387          23645  \n",
       "unique                                                937              2  \n",
       "top     [Можно с детьми, Ванна, Стиральная машина, Меб...         пешком  \n",
       "freq                                                 1382          21517  "
      ]
     },
     "execution_count": 39,
     "metadata": {},
     "output_type": "execute_result"
    }
   ],
   "source": [
    "df.describe(include=[\"object\", \"bool\"])"
   ]
  },
  {
   "cell_type": "code",
   "execution_count": 135,
   "id": "15a5376f",
   "metadata": {},
   "outputs": [],
   "source": [
    "# удалим выбросы\n",
    "df = df.drop(\n",
    "    df.query('(square > 500 and price < 350000) or time_metro>40').index)"
   ]
  },
  {
   "cell_type": "code",
   "execution_count": 74,
   "id": "b0ab3e4b",
   "metadata": {},
   "outputs": [
    {
     "data": {
      "text/plain": [
       "пешком           21509\n",
       "на транспорте     2127\n",
       "Name: transport_type, dtype: int64"
      ]
     },
     "execution_count": 74,
     "metadata": {},
     "output_type": "execute_result"
    }
   ],
   "source": [
    "df['transport_type'].value_counts()"
   ]
  },
  {
   "cell_type": "code",
   "execution_count": 75,
   "id": "7688c5ed",
   "metadata": {},
   "outputs": [
    {
     "name": "stderr",
     "output_type": "stream",
     "text": [
      "C:\\ProgramData\\Anaconda3\\lib\\site-packages\\scipy\\stats\\morestats.py:1760: UserWarning: p-value may not be accurate for N > 5000.\n",
      "  warnings.warn(\"p-value may not be accurate for N > 5000.\")\n"
     ]
    },
    {
     "name": "stdout",
     "output_type": "stream",
     "text": [
      "Распределение ненормальное\n"
     ]
    },
    {
     "data": {
      "image/png": "[encoded data removed]",
      "text/plain": [
       "<Figure size 1080x360 with 1 Axes>"
      ]
     },
     "metadata": {
      "needs_background": "light"
     },
     "output_type": "display_data"
    }
   ],
   "source": [
    "fig, ax = plt.subplots(figsize=(15, 5))\n",
    "sns.histplot(df.price, kde=True)\n",
    "ax.set_xlim(0, 200000)\n",
    "\n",
    "if stats.shapiro(df.price).pvalue >= 0.05:\n",
    "    print('Распределение нормальное')\n",
    "else:\n",
    "    print('Распределение ненормальное')"
   ]
  },
  {
   "cell_type": "markdown",
   "id": "19c746de",
   "metadata": {},
   "source": [
    "### Гипотезы"
   ]
  },
  {
   "cell_type": "markdown",
   "id": "e7414128",
   "metadata": {},
   "source": [
    "- В ЦАО аренда квартир в целом стоит дороже, чем в остальных районах\n",
    "-В ЦАО цена аренды за квадратный метр в среднем стоит дороже, чем в остальных районах.\n",
    "-Чем больше площадь квартиры, тем дороже стоимость аренды.\n",
    "-Квартиры в шаговой доступности от метро дороже, чем те, от которых необходимо добираться на транспорте.\n",
    "-Чем больше этажей в доме, тем дороже аренда.\n",
    "-Аренда на первом и последнем этаже в среднем стоит дешевле, чем на других.\n",
    "-Чем выше этаж, тем дороже аренда.\n",
    "-Чем больше комнат в квартире, тем дороже аренда.\n",
    "-Квартиры с бОльшим количеством удобств и опций стоят дороже, чем без них.\n",
    "-Квартиры с ванной стоят дороже, чем квартиры с душевыми кабинами.\n",
    "-Квартиры в исторический районах Москвы стоят дороже, чем в остальных.\n",
    "-Цена больше у квартир с бОльшим количеством комнат и площадью."
   ]
  },
  {
   "cell_type": "markdown",
   "id": "2c011fe3",
   "metadata": {},
   "source": [
    "#### Гипотеза 1."
   ]
  },
  {
   "cell_type": "markdown",
   "id": "857a82d2",
   "metadata": {},
   "source": [
    "В ЦАО аренда квартир в целом стоит дороже, чем в остальных районах."
   ]
  },
  {
   "cell_type": "code",
   "execution_count": 76,
   "id": "cd760390",
   "metadata": {
    "scrolled": true
   },
   "outputs": [
    {
     "data": {
      "image/png": "[encoded data removed]",
      "text/plain": [
       "<Figure size 1080x360 with 1 Axes>"
      ]
     },
     "metadata": {
      "needs_background": "light"
     },
     "output_type": "display_data"
    }
   ],
   "source": [
    "fig, ax = plt.subplots(figsize=(15, 5))\n",
    "sns.boxplot(x='district', y='price', data=df, palette='crest')\n",
    "\n",
    "ax.set_ylim(0, 500000)\n",
    "ax.set_title('Boxplot Price', fontsize=16)\n",
    "ax.set_ylabel('Price', fontsize=14)\n",
    "ax.set_xlabel('District', fontsize=14)\n",
    "plt.show()"
   ]
  },
  {
   "cell_type": "code",
   "execution_count": 77,
   "id": "0fe20b4f",
   "metadata": {},
   "outputs": [
    {
     "data": {
      "text/plain": [
       "district\n",
       "ВАО      41000.0\n",
       "ЗАО      70000.0\n",
       "САО      60000.0\n",
       "СВАО     45999.5\n",
       "СЗАО     56500.0\n",
       "ЦАО     170000.0\n",
       "ЮАО      45000.0\n",
       "ЮВАО     45000.0\n",
       "ЮЗАО     50000.0\n",
       "Name: price, dtype: float64"
      ]
     },
     "execution_count": 77,
     "metadata": {},
     "output_type": "execute_result"
    }
   ],
   "source": [
    "df.groupby('district')['price'].median()"
   ]
  },
  {
   "cell_type": "markdown",
   "id": "46fbc6a1",
   "metadata": {},
   "source": [
    "Медианная цена квартиры в ЦАО выше, чем в остальных районах. Гипотеза подтверждена."
   ]
  },
  {
   "cell_type": "markdown",
   "id": "6b545253",
   "metadata": {},
   "source": [
    "#### Гипотеза 2."
   ]
  },
  {
   "cell_type": "markdown",
   "id": "b1e3533d",
   "metadata": {},
   "source": [
    "В ЦАО цена аренды за квадратный метр в среднем стоит дороже, чем в остальных районах."
   ]
  },
  {
   "cell_type": "code",
   "execution_count": 78,
   "id": "9ff11ee8",
   "metadata": {},
   "outputs": [],
   "source": [
    "df['price_per_meter'] = df['price'] / df['square']"
   ]
  },
  {
   "cell_type": "code",
   "execution_count": 79,
   "id": "a6431113",
   "metadata": {
    "scrolled": true
   },
   "outputs": [
    {
     "data": {
      "image/png": "[encoded data removed]",
      "text/plain": [
       "<Figure size 1080x360 with 1 Axes>"
      ]
     },
     "metadata": {
      "needs_background": "light"
     },
     "output_type": "display_data"
    }
   ],
   "source": [
    "fig, ax = plt.subplots(figsize=(15, 5))\n",
    "\n",
    "sns.boxplot(x='district', y='price_per_meter', data=df, palette='flare')\n",
    "\n",
    "ax.set_ylim(0, 10000)\n",
    "ax.set_title('Boxplot Price', fontsize=16)\n",
    "ax.set_ylabel('Price', fontsize=14)\n",
    "ax.set_xlabel('District', fontsize=14)\n",
    "plt.show()"
   ]
  },
  {
   "cell_type": "code",
   "execution_count": 80,
   "id": "24c358bb",
   "metadata": {},
   "outputs": [
    {
     "data": {
      "text/plain": [
       "district\n",
       "ВАО      925.925926\n",
       "ЗАО     1151.515152\n",
       "САО     1132.352941\n",
       "СВАО    1000.000000\n",
       "СЗАО    1071.428571\n",
       "ЦАО     1714.285714\n",
       "ЮАО      974.358974\n",
       "ЮВАО     961.538462\n",
       "ЮЗАО     985.797744\n",
       "Name: price_per_meter, dtype: float64"
      ]
     },
     "execution_count": 80,
     "metadata": {},
     "output_type": "execute_result"
    }
   ],
   "source": [
    "df.groupby('district')['price_per_meter'].median()"
   ]
  },
  {
   "cell_type": "markdown",
   "id": "7d3e94a1",
   "metadata": {},
   "source": [
    "Медианная цена квадратного метра в ЦАО выше, чем в остальных районах. Гипотеза подтверждена."
   ]
  },
  {
   "cell_type": "markdown",
   "id": "58c83da4",
   "metadata": {},
   "source": [
    "#### Гипотеза 3."
   ]
  },
  {
   "cell_type": "markdown",
   "id": "1e17a393",
   "metadata": {},
   "source": [
    "Чем больше площадь квартиры, тем дороже стоимость аренды."
   ]
  },
  {
   "cell_type": "code",
   "execution_count": 81,
   "id": "1abb72c5",
   "metadata": {
    "scrolled": true
   },
   "outputs": [
    {
     "data": {
      "image/png": "[encoded data removed]",
      "text/plain": [
       "<Figure size 432x288 with 2 Axes>"
      ]
     },
     "metadata": {
      "needs_background": "light"
     },
     "output_type": "display_data"
    }
   ],
   "source": [
    "sns.heatmap(df[['square', 'price']].corr(method='spearman'),\n",
    "            annot=True)\n",
    "plt.show()"
   ]
  },
  {
   "cell_type": "markdown",
   "id": "d1c28be9",
   "metadata": {},
   "source": [
    "Чем больше площадь, тем дороже стоимость аренды. Гипотеза подтверждена."
   ]
  },
  {
   "cell_type": "markdown",
   "id": "b1963bba",
   "metadata": {},
   "source": [
    "#### Гипотеза 4."
   ]
  },
  {
   "cell_type": "markdown",
   "id": "f516bfe2",
   "metadata": {},
   "source": [
    "Квартиры в шаговой доступности от метро дороже, чем те, от которых необходимо добираться на транспорте."
   ]
  },
  {
   "cell_type": "code",
   "execution_count": 82,
   "id": "5767e113",
   "metadata": {},
   "outputs": [
    {
     "data": {
      "text/plain": [
       "array(['пешком', 'на транспорте', None], dtype=object)"
      ]
     },
     "execution_count": 82,
     "metadata": {},
     "output_type": "execute_result"
    }
   ],
   "source": [
    "df.transport_type.unique()"
   ]
  },
  {
   "cell_type": "code",
   "execution_count": 83,
   "id": "aec734d9",
   "metadata": {},
   "outputs": [
    {
     "data": {
      "image/png": "[encoded data removed]",
      "text/plain": [
       "<Figure size 1080x360 with 1 Axes>"
      ]
     },
     "metadata": {
      "needs_background": "light"
     },
     "output_type": "display_data"
    }
   ],
   "source": [
    "fig, ax = plt.subplots(figsize=(15, 5))\n",
    "\n",
    "sns.boxplot(x='transport_type', y='price', data=df)\n",
    "\n",
    "ax.set_ylim(0, 200000)\n",
    "ax.set_title('Boxplot Price', fontsize=16)\n",
    "ax.set_ylabel('Price', fontsize=14)\n",
    "ax.set_xlabel('Transport type', fontsize=14)\n",
    "plt.show()"
   ]
  },
  {
   "cell_type": "code",
   "execution_count": 84,
   "id": "070a3ed2",
   "metadata": {},
   "outputs": [
    {
     "data": {
      "text/plain": [
       "transport_type\n",
       "на транспорте    48000.0\n",
       "пешком           60000.0\n",
       "Name: price, dtype: float64"
      ]
     },
     "execution_count": 84,
     "metadata": {},
     "output_type": "execute_result"
    }
   ],
   "source": [
    "df.groupby('transport_type')['price'].median()"
   ]
  },
  {
   "cell_type": "markdown",
   "id": "86739aac",
   "metadata": {},
   "source": [
    "Медианная цена квартиры в шаговой доступности дороже, чем та, до которой необходимо добираться на транспорте. Гипотеза подтверждена."
   ]
  },
  {
   "cell_type": "markdown",
   "id": "e3d0fe4c",
   "metadata": {},
   "source": [
    "#### Гипотеза 5."
   ]
  },
  {
   "cell_type": "markdown",
   "id": "75c39b44",
   "metadata": {},
   "source": [
    "Чем больше этажей в доме, тем дороже аренда."
   ]
  },
  {
   "cell_type": "code",
   "execution_count": 85,
   "id": "8c1611d4",
   "metadata": {},
   "outputs": [
    {
     "data": {
      "image/png": "[encoded data removed]",
      "text/plain": [
       "<Figure size 432x288 with 2 Axes>"
      ]
     },
     "metadata": {
      "needs_background": "light"
     },
     "output_type": "display_data"
    }
   ],
   "source": [
    "sns.heatmap(df[['attic', 'price']].corr(method='spearman'), annot=True)\n",
    "plt.show()"
   ]
  },
  {
   "cell_type": "markdown",
   "id": "65e24e4d",
   "metadata": {},
   "source": [
    "Корреляция между количеством этажей и стоимостью аренды отсутствует. Гипотеза опровергнута."
   ]
  },
  {
   "cell_type": "markdown",
   "id": "72ade712",
   "metadata": {},
   "source": [
    "#### Гипотеза 6."
   ]
  },
  {
   "cell_type": "markdown",
   "id": "c7dc8b4b",
   "metadata": {},
   "source": [
    "Аренда на первом и последнем этаже в среднем стоит дешевле, чем на других"
   ]
  },
  {
   "cell_type": "code",
   "execution_count": 86,
   "id": "d2a22986",
   "metadata": {},
   "outputs": [],
   "source": [
    "df['last_first_other'] = df.apply(\n",
    "    lambda row: 'первый этаж' if row['floor'] == 1 else\n",
    "    ('последний эатж' if row['floor'] == row['attic'] else 'остальное'),\n",
    "    axis=1)"
   ]
  },
  {
   "cell_type": "code",
   "execution_count": 87,
   "id": "deaae377",
   "metadata": {
    "scrolled": true
   },
   "outputs": [
    {
     "data": {
      "image/png": "[encoded data removed]",
      "text/plain": [
       "<Figure size 1080x360 with 1 Axes>"
      ]
     },
     "metadata": {
      "needs_background": "light"
     },
     "output_type": "display_data"
    }
   ],
   "source": [
    "fig, ax = plt.subplots(figsize=(15, 5))\n",
    "\n",
    "sns.boxplot(x='last_first_other', y='price', data=df)\n",
    "\n",
    "ax.set_ylim(0, 200000)\n",
    "ax.set_title('Boxplot Price', fontsize=16)\n",
    "ax.set_ylabel('Price', fontsize=14)\n",
    "ax.set_xlabel('Floor', fontsize=14)\n",
    "plt.show()"
   ]
  },
  {
   "cell_type": "code",
   "execution_count": 88,
   "id": "31381a9a",
   "metadata": {},
   "outputs": [
    {
     "data": {
      "text/plain": [
       "last_first_other\n",
       "остальное         60000.0\n",
       "первый этаж       45000.0\n",
       "последний эатж    55000.0\n",
       "Name: price, dtype: float64"
      ]
     },
     "execution_count": 88,
     "metadata": {},
     "output_type": "execute_result"
    }
   ],
   "source": [
    "df.groupby('last_first_other')['price'].median()"
   ]
  },
  {
   "cell_type": "markdown",
   "id": "1b63a438",
   "metadata": {},
   "source": [
    "Медианное значение квартир ниже на первом и последнем этаже. Гипотеза подтверждена."
   ]
  },
  {
   "cell_type": "markdown",
   "id": "4572733a",
   "metadata": {},
   "source": [
    "#### Гипотеза 7."
   ]
  },
  {
   "cell_type": "markdown",
   "id": "d15233eb",
   "metadata": {},
   "source": [
    "Чем выше этаж, тем дороже аренда"
   ]
  },
  {
   "cell_type": "code",
   "execution_count": 89,
   "id": "9d43f777",
   "metadata": {},
   "outputs": [
    {
     "data": {
      "image/png": "[encoded data removed]",
      "text/plain": [
       "<Figure size 432x288 with 2 Axes>"
      ]
     },
     "metadata": {
      "needs_background": "light"
     },
     "output_type": "display_data"
    }
   ],
   "source": [
    "sns.heatmap(df[['floor', 'price']].corr(method='spearman'), annot=True)\n",
    "plt.show()"
   ]
  },
  {
   "cell_type": "markdown",
   "id": "341cf5fe",
   "metadata": {},
   "source": [
    "Корреляция отсутствует. Гипотеза опровергнута"
   ]
  },
  {
   "cell_type": "markdown",
   "id": "56e4f1fd",
   "metadata": {},
   "source": [
    "#### Гипотеза 8."
   ]
  },
  {
   "cell_type": "markdown",
   "id": "dd1a80dd",
   "metadata": {},
   "source": [
    "Чем больше комнат в квартире, тем дороже аренда"
   ]
  },
  {
   "cell_type": "code",
   "execution_count": 90,
   "id": "3a2ea2bb",
   "metadata": {},
   "outputs": [
    {
     "data": {
      "image/png": "[encoded data removed]",
      "text/plain": [
       "<Figure size 432x288 with 2 Axes>"
      ]
     },
     "metadata": {
      "needs_background": "light"
     },
     "output_type": "display_data"
    }
   ],
   "source": [
    "sns.heatmap(df[['room_count', 'price']].corr(method='spearman'), annot=True)\n",
    "plt.show()"
   ]
  },
  {
   "cell_type": "markdown",
   "id": "af185878",
   "metadata": {},
   "source": [
    "Есть прямая корреляция между количеством комнат в квартире и стоимостью аренды. Гипотеза подтверждена."
   ]
  },
  {
   "cell_type": "markdown",
   "id": "261e2076",
   "metadata": {},
   "source": [
    "#### Гипотеза 9."
   ]
  },
  {
   "cell_type": "markdown",
   "id": "de25a215",
   "metadata": {},
   "source": [
    "Квартиры с бОльшим количеством удобств и опций стоят дороже, чем без них"
   ]
  },
  {
   "cell_type": "code",
   "execution_count": 91,
   "id": "8dea6dae",
   "metadata": {},
   "outputs": [],
   "source": [
    "df['facilities_count'] = df['facilities'].apply(lambda x: len(x))"
   ]
  },
  {
   "cell_type": "code",
   "execution_count": 92,
   "id": "322c378c",
   "metadata": {},
   "outputs": [
    {
     "data": {
      "image/png": "[encoded data removed]",
      "text/plain": [
       "<Figure size 432x288 with 2 Axes>"
      ]
     },
     "metadata": {
      "needs_background": "light"
     },
     "output_type": "display_data"
    }
   ],
   "source": [
    "sns.heatmap(df[['facilities_count', 'price']].corr(method='spearman'),\n",
    "            annot=True)\n",
    "plt.show()"
   ]
  },
  {
   "cell_type": "markdown",
   "id": "77b67d4f",
   "metadata": {},
   "source": [
    "Корреляция слабая, сложно говорить о значимой линейной зависимости. Гипотеза частично подтверждена."
   ]
  },
  {
   "cell_type": "markdown",
   "id": "68059b5e",
   "metadata": {},
   "source": [
    "#### Гипотеза 10."
   ]
  },
  {
   "cell_type": "markdown",
   "id": "cc9bd838",
   "metadata": {},
   "source": [
    "Квартиры с ванной стоят дороже, чем квартиры с душевыми кабинами."
   ]
  },
  {
   "cell_type": "code",
   "execution_count": 93,
   "id": "005909e8",
   "metadata": {},
   "outputs": [],
   "source": [
    "df[\"bathroom\"] = df[\"facilities\"].apply(\n",
    "    lambda x: \"ванна+душевая\" if \"Ванна\" in x and \"Душевая кабина\" in x else\n",
    "    (\"ванна\" if \"Ванна\" in x else (\"душевая\"\n",
    "                                   if \"Душевая кабина\" in x else None)))"
   ]
  },
  {
   "cell_type": "code",
   "execution_count": 117,
   "id": "501b5eee",
   "metadata": {},
   "outputs": [
    {
     "data": {
      "image/png": "[encoded data removed]",
      "text/plain": [
       "<Figure size 812.7x432 with 1 Axes>"
      ]
     },
     "metadata": {
      "needs_background": "light"
     },
     "output_type": "display_data"
    }
   ],
   "source": [
    "sns.displot(\n",
    "    {\n",
    "        \"ванна+душевая\": df[df.bathroom == 'ванна+душевая'].price,\n",
    "        \"ванна\": df[df.bathroom == 'ванна'].price,\n",
    "        \"душевая\": df[df.bathroom == 'душевая'].price,\n",
    "    },\n",
    "    kind=\"kde\",\n",
    "    common_norm=False,\n",
    "    height=6,\n",
    "    aspect=1.6)\n",
    "\n",
    "plt.title('Price-Bathroom', fontsize=16)\n",
    "plt.xlabel('Price', fontsize=14)\n",
    "plt.ylabel('Dentsity', fontsize=14)\n",
    "\n",
    "plt.xlim(0, 500000)\n",
    "\n",
    "plt.show()"
   ]
  },
  {
   "cell_type": "code",
   "execution_count": 94,
   "id": "3f6ba533",
   "metadata": {},
   "outputs": [
    {
     "data": {
      "image/png": "[encoded data removed]",
      "text/plain": [
       "<Figure size 1080x360 with 1 Axes>"
      ]
     },
     "metadata": {
      "needs_background": "light"
     },
     "output_type": "display_data"
    }
   ],
   "source": [
    "fig, ax = plt.subplots(figsize=(15, 5))\n",
    "\n",
    "sns.boxplot(x='bathroom', y='price', data=df)\n",
    "\n",
    "ax.set_ylim(0, 400000)\n",
    "ax.set_title('Boxplot Price', fontsize=16)\n",
    "ax.set_ylabel('Price', fontsize=14)\n",
    "ax.set_xlabel('Floor', fontsize=14)\n",
    "plt.show()"
   ]
  },
  {
   "cell_type": "code",
   "execution_count": 95,
   "id": "ee230f7a",
   "metadata": {},
   "outputs": [
    {
     "data": {
      "text/plain": [
       "bathroom\n",
       "ванна             50000.0\n",
       "ванна+душевая    190000.0\n",
       "душевая           63000.0\n",
       "Name: price, dtype: float64"
      ]
     },
     "execution_count": 95,
     "metadata": {},
     "output_type": "execute_result"
    }
   ],
   "source": [
    "df.groupby('bathroom')['price'].median()"
   ]
  },
  {
   "cell_type": "markdown",
   "id": "ba43c946",
   "metadata": {},
   "source": [
    "Квартиры с душевой стоят дороже, чем квартиры с ванной. Гипотеза опровергнута."
   ]
  },
  {
   "cell_type": "markdown",
   "id": "7696c2c3",
   "metadata": {},
   "source": [
    "#### Гипотеза 11."
   ]
  },
  {
   "cell_type": "markdown",
   "id": "fbfe6332",
   "metadata": {},
   "source": [
    "Квартиры в исторический районах Москвы стоят дороже, чем в остальных."
   ]
  },
  {
   "cell_type": "code",
   "execution_count": 96,
   "id": "35e0d3a5",
   "metadata": {},
   "outputs": [],
   "source": [
    "hist_reg = [\n",
    "    'Китай-город', 'Замоскворечье', 'Басманный', 'Таганский', 'Пресненский',\n",
    "    'Арбат'\n",
    "]"
   ]
  },
  {
   "cell_type": "code",
   "execution_count": 97,
   "id": "b83a409b",
   "metadata": {},
   "outputs": [],
   "source": [
    "df['hist_reg'] = df['area'].apply(lambda x: 'исторический'\n",
    "                                  if x in hist_reg else 'не исторический')"
   ]
  },
  {
   "cell_type": "code",
   "execution_count": 114,
   "id": "5d09c007",
   "metadata": {},
   "outputs": [
    {
     "data": {
      "image/png": "[encoded data removed]",
      "text/plain": [
       "<Figure size 816.2x432 with 1 Axes>"
      ]
     },
     "metadata": {
      "needs_background": "light"
     },
     "output_type": "display_data"
    }
   ],
   "source": [
    "sns.displot(\n",
    "    {\n",
    "        \"исторический\": df[df.hist_reg == 'исторический'].price,\n",
    "        \"не исторический\": df[df.hist_reg == 'не исторический'].price,\n",
    "    },\n",
    "    kind=\"kde\",\n",
    "    common_norm=False,\n",
    "    height=6,\n",
    "    aspect=1.6)\n",
    "\n",
    "plt.title('Price-Hist_reg', fontsize=16)\n",
    "plt.xlabel('Price', fontsize=14)\n",
    "plt.ylabel('Dentsity', fontsize=14)\n",
    "\n",
    "plt.xlim(0, 500000)\n",
    "\n",
    "plt.show()"
   ]
  },
  {
   "cell_type": "code",
   "execution_count": 98,
   "id": "0eca0157",
   "metadata": {},
   "outputs": [
    {
     "data": {
      "image/png": "[encoded data removed]",
      "text/plain": [
       "<Figure size 1080x360 with 1 Axes>"
      ]
     },
     "metadata": {
      "needs_background": "light"
     },
     "output_type": "display_data"
    }
   ],
   "source": [
    "fig, ax = plt.subplots(figsize=(15, 5))\n",
    "\n",
    "sns.boxplot(x='hist_reg', y='price', data=df)\n",
    "\n",
    "ax.set_ylim(0, 400000)\n",
    "ax.set_title('Boxplot Price', fontsize=16)\n",
    "ax.set_ylabel('Price', fontsize=14)\n",
    "ax.set_xlabel('Floor', fontsize=14)\n",
    "plt.show()"
   ]
  },
  {
   "cell_type": "code",
   "execution_count": 99,
   "id": "946acd6c",
   "metadata": {},
   "outputs": [
    {
     "data": {
      "text/plain": [
       "hist_reg\n",
       "исторический       165000.0\n",
       "не исторический     55000.0\n",
       "Name: price, dtype: float64"
      ]
     },
     "execution_count": 99,
     "metadata": {},
     "output_type": "execute_result"
    }
   ],
   "source": [
    "df.groupby('hist_reg')['price'].median()"
   ]
  },
  {
   "cell_type": "markdown",
   "id": "04a9925c",
   "metadata": {},
   "source": [
    "Аренда квартиры в историческом районе Москвы стоит дороже, чем не в историческом. Гипотеза подтверждена."
   ]
  },
  {
   "cell_type": "markdown",
   "id": "8538ea05",
   "metadata": {},
   "source": [
    "#### Гипотеза 12."
   ]
  },
  {
   "cell_type": "markdown",
   "id": "5568c280",
   "metadata": {},
   "source": [
    "Цена больше у квартир с бОльшим количеством комнат и площадью."
   ]
  },
  {
   "cell_type": "code",
   "execution_count": 136,
   "id": "96a3c12f",
   "metadata": {},
   "outputs": [
    {
     "data": {
      "image/png": "[encoded data removed]",
      "text/plain": [
       "<Figure size 720x576 with 1 Axes>"
      ]
     },
     "metadata": {
      "needs_background": "light"
     },
     "output_type": "display_data"
    }
   ],
   "source": [
    "plt.figure(figsize=(10, 8))\n",
    "\n",
    "sns.scatterplot(data=df, x='square', y='room_count', hue='price')\n",
    "plt.xlabel('Площадь квартиры')\n",
    "plt.ylabel('Количество комнат')\n",
    "plt.title('Площадь квартиры-количество комнат')\n",
    "\n",
    "plt.show()"
   ]
  },
  {
   "cell_type": "code",
   "execution_count": 137,
   "id": "9b8e5104",
   "metadata": {},
   "outputs": [],
   "source": [
    "med_price_room_square = df.groupby(['room_count','square'])['price'].median()"
   ]
  },
  {
   "cell_type": "code",
   "execution_count": 138,
   "id": "b9837ab7",
   "metadata": {},
   "outputs": [
    {
     "data": {
      "text/plain": [
       "room_count  square\n",
       "0           10          27000.0\n",
       "            11          30000.0\n",
       "            12          30000.0\n",
       "            13          26000.0\n",
       "            14          32000.0\n",
       "                        ...    \n",
       "6           658       1990000.0\n",
       "            700       2500000.0\n",
       "            707        580000.0\n",
       "            710        580000.0\n",
       "            920       2500000.0\n",
       "Name: price, Length: 883, dtype: float64"
      ]
     },
     "execution_count": 138,
     "metadata": {},
     "output_type": "execute_result"
    }
   ],
   "source": [
    "med_price_room_square"
   ]
  },
  {
   "cell_type": "markdown",
   "id": "0fa8819d",
   "metadata": {},
   "source": [
    "Гипотеза подтверждена."
   ]
  },
  {
   "cell_type": "code",
   "execution_count": null,
   "id": "c78dce8a",
   "metadata": {},
   "outputs": [],
   "source": []
  }
 ],
 "metadata": {
  "kernelspec": {
   "display_name": "Python 3 (ipykernel)",
   "language": "python",
   "name": "python3"
  },
  "language_info": {
   "codemirror_mode": {
    "name": "ipython",
    "version": 3
   },
   "file_extension": ".py",
   "mimetype": "text/x-python",
   "name": "python",
   "nbconvert_exporter": "python",
   "pygments_lexer": "ipython3",
   "version": "3.9.12"
  },
  "toc": {
   "base_numbering": 1,
   "nav_menu": {},
   "number_sections": true,
   "sideBar": true,
   "skip_h1_title": false,
   "title_cell": "Table of Contents",
   "title_sidebar": "Contents",
   "toc_cell": false,
   "toc_position": {
    "height": "calc(100% - 180px)",
    "left": "10px",
    "top": "150px",
    "width": "383.991px"
   },
   "toc_section_display": true,
   "toc_window_display": true
  }
 },
 "nbformat": 4,
 "nbformat_minor": 5
}
