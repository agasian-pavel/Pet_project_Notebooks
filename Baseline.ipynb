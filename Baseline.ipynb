{
 "cells": [
  {
   "cell_type": "code",
   "execution_count": 1,
   "id": "6494e32f",
   "metadata": {
    "scrolled": false
   },
   "outputs": [],
   "source": [
    "import pandas as pd\n",
    "import numpy as np\n",
    "import matplotlib.pyplot as plt\n",
    "import seaborn as sns\n",
    "from scipy import stats\n",
    "from sklearn.model_selection import train_test_split, KFold\n",
    "from sklearn.linear_model import LinearRegression\n",
    "from sklearn.preprocessing import StandardScaler, MinMaxScaler, MultiLabelBinarizer\n",
    "from get_metrics import get_metrics_regression\n",
    "from sklearn.ensemble import RandomForestRegressor\n",
    "from xgboost import XGBRegressor\n",
    "from lightgbm import LGBMRegressor\n",
    "from catboost import CatBoostRegressor\n",
    "import re\n",
    "from transliterate import translit\n",
    "\n",
    "from sklearn.metrics import mean_absolute_error, mean_squared_error, f1_score, \\\n",
    "    roc_auc_score, r2_score, log_loss, mean_squared_log_error\n",
    "\n",
    "import warnings\n",
    "from warnings import simplefilter\n",
    "\n",
    "warnings.filterwarnings(\"ignore\")\n",
    "simplefilter(\"ignore\", category=RuntimeWarning)\n",
    "\n",
    "RAND = 10"
   ]
  },
  {
   "cell_type": "code",
   "execution_count": 2,
   "id": "3e1214a0",
   "metadata": {},
   "outputs": [],
   "source": [
    "df=pd.read_json('cian_data.json')"
   ]
  },
  {
   "cell_type": "code",
   "execution_count": 3,
   "id": "59299cf1",
   "metadata": {
    "scrolled": true
   },
   "outputs": [
    {
     "data": {
      "text/html": [
       "<div>\n",
       "<style scoped>\n",
       "    .dataframe tbody tr th:only-of-type {\n",
       "        vertical-align: middle;\n",
       "    }\n",
       "\n",
       "    .dataframe tbody tr th {\n",
       "        vertical-align: top;\n",
       "    }\n",
       "\n",
       "    .dataframe thead th {\n",
       "        text-align: right;\n",
       "    }\n",
       "</style>\n",
       "<table border=\"1\" class=\"dataframe\">\n",
       "  <thead>\n",
       "    <tr style=\"text-align: right;\">\n",
       "      <th></th>\n",
       "      <th>room_count</th>\n",
       "      <th>price</th>\n",
       "      <th>district</th>\n",
       "      <th>area</th>\n",
       "      <th>street</th>\n",
       "      <th>house</th>\n",
       "      <th>metro</th>\n",
       "      <th>time_metro</th>\n",
       "      <th>facilities</th>\n",
       "      <th>floor</th>\n",
       "      <th>attic</th>\n",
       "      <th>square</th>\n",
       "      <th>transport_type</th>\n",
       "    </tr>\n",
       "  </thead>\n",
       "  <tbody>\n",
       "    <tr>\n",
       "      <th>0</th>\n",
       "      <td>3</td>\n",
       "      <td>80000</td>\n",
       "      <td>ЦАО</td>\n",
       "      <td>Пресненский</td>\n",
       "      <td>Мукомольный проезд</td>\n",
       "      <td>2</td>\n",
       "      <td>Шелепиха</td>\n",
       "      <td>10</td>\n",
       "      <td>[Можно с животными, Можно с детьми, Ванна, Сти...</td>\n",
       "      <td>15</td>\n",
       "      <td>36</td>\n",
       "      <td>65</td>\n",
       "      <td>пешком</td>\n",
       "    </tr>\n",
       "    <tr>\n",
       "      <th>1</th>\n",
       "      <td>3</td>\n",
       "      <td>55000</td>\n",
       "      <td>ЦАО</td>\n",
       "      <td>Мещанский</td>\n",
       "      <td>Банный пер.</td>\n",
       "      <td>4С1</td>\n",
       "      <td>Проспект Мира</td>\n",
       "      <td>5</td>\n",
       "      <td>[Можно с животными, Можно с детьми, Ванна, Сти...</td>\n",
       "      <td>7</td>\n",
       "      <td>9</td>\n",
       "      <td>60</td>\n",
       "      <td>пешком</td>\n",
       "    </tr>\n",
       "    <tr>\n",
       "      <th>2</th>\n",
       "      <td>3</td>\n",
       "      <td>220000</td>\n",
       "      <td>ЦАО</td>\n",
       "      <td>Пресненский</td>\n",
       "      <td>Большая Никитская ул.</td>\n",
       "      <td>49</td>\n",
       "      <td>Баррикадная</td>\n",
       "      <td>10</td>\n",
       "      <td>[Можно с детьми, Ванна, Стиральная машина, Пос...</td>\n",
       "      <td>9</td>\n",
       "      <td>14</td>\n",
       "      <td>100</td>\n",
       "      <td>пешком</td>\n",
       "    </tr>\n",
       "    <tr>\n",
       "      <th>3</th>\n",
       "      <td>3</td>\n",
       "      <td>150000</td>\n",
       "      <td>ЦАО</td>\n",
       "      <td>Пресненский</td>\n",
       "      <td>Большой Козихинский пер.</td>\n",
       "      <td>4</td>\n",
       "      <td>Пушкинская</td>\n",
       "      <td>7</td>\n",
       "      <td>[Можно с животными, Можно с детьми, Стиральная...</td>\n",
       "      <td>2</td>\n",
       "      <td>4</td>\n",
       "      <td>80</td>\n",
       "      <td>пешком</td>\n",
       "    </tr>\n",
       "    <tr>\n",
       "      <th>4</th>\n",
       "      <td>3</td>\n",
       "      <td>350000</td>\n",
       "      <td>ЦАО</td>\n",
       "      <td>Арбат</td>\n",
       "      <td>ул. Новый Арбат</td>\n",
       "      <td>32</td>\n",
       "      <td>Смоленская</td>\n",
       "      <td>7</td>\n",
       "      <td>[Можно с животными, Можно с детьми, Ванна, Сти...</td>\n",
       "      <td>4</td>\n",
       "      <td>13</td>\n",
       "      <td>110</td>\n",
       "      <td>пешком</td>\n",
       "    </tr>\n",
       "  </tbody>\n",
       "</table>\n",
       "</div>"
      ],
      "text/plain": [
       "   room_count   price district         area                    street house  \\\n",
       "0           3   80000      ЦАО  Пресненский        Мукомольный проезд     2   \n",
       "1           3   55000      ЦАО    Мещанский               Банный пер.   4С1   \n",
       "2           3  220000      ЦАО  Пресненский     Большая Никитская ул.    49   \n",
       "3           3  150000      ЦАО  Пресненский  Большой Козихинский пер.     4   \n",
       "4           3  350000      ЦАО        Арбат           ул. Новый Арбат    32   \n",
       "\n",
       "           metro  time_metro  \\\n",
       "0       Шелепиха          10   \n",
       "1  Проспект Мира           5   \n",
       "2    Баррикадная          10   \n",
       "3     Пушкинская           7   \n",
       "4     Смоленская           7   \n",
       "\n",
       "                                          facilities  floor  attic  square  \\\n",
       "0  [Можно с животными, Можно с детьми, Ванна, Сти...     15     36      65   \n",
       "1  [Можно с животными, Можно с детьми, Ванна, Сти...      7      9      60   \n",
       "2  [Можно с детьми, Ванна, Стиральная машина, Пос...      9     14     100   \n",
       "3  [Можно с животными, Можно с детьми, Стиральная...      2      4      80   \n",
       "4  [Можно с животными, Можно с детьми, Ванна, Сти...      4     13     110   \n",
       "\n",
       "  transport_type  \n",
       "0         пешком  \n",
       "1         пешком  \n",
       "2         пешком  \n",
       "3         пешком  \n",
       "4         пешком  "
      ]
     },
     "execution_count": 3,
     "metadata": {},
     "output_type": "execute_result"
    }
   ],
   "source": [
    "df.head(5)"
   ]
  },
  {
   "cell_type": "code",
   "execution_count": 4,
   "id": "0b1f3d1d",
   "metadata": {
    "scrolled": true
   },
   "outputs": [
    {
     "data": {
      "text/html": [
       "<div>\n",
       "<style scoped>\n",
       "    .dataframe tbody tr th:only-of-type {\n",
       "        vertical-align: middle;\n",
       "    }\n",
       "\n",
       "    .dataframe tbody tr th {\n",
       "        vertical-align: top;\n",
       "    }\n",
       "\n",
       "    .dataframe thead th {\n",
       "        text-align: right;\n",
       "    }\n",
       "</style>\n",
       "<table border=\"1\" class=\"dataframe\">\n",
       "  <thead>\n",
       "    <tr style=\"text-align: right;\">\n",
       "      <th></th>\n",
       "      <th>room_count</th>\n",
       "      <th>price</th>\n",
       "      <th>time_metro</th>\n",
       "      <th>floor</th>\n",
       "      <th>attic</th>\n",
       "      <th>square</th>\n",
       "    </tr>\n",
       "  </thead>\n",
       "  <tbody>\n",
       "    <tr>\n",
       "      <th>count</th>\n",
       "      <td>24387.000000</td>\n",
       "      <td>2.438700e+04</td>\n",
       "      <td>24387.000000</td>\n",
       "      <td>24387.000000</td>\n",
       "      <td>24387.000000</td>\n",
       "      <td>24387.000000</td>\n",
       "    </tr>\n",
       "    <tr>\n",
       "      <th>mean</th>\n",
       "      <td>2.167548</td>\n",
       "      <td>1.082806e+05</td>\n",
       "      <td>9.419363</td>\n",
       "      <td>8.473162</td>\n",
       "      <td>16.028089</td>\n",
       "      <td>88.082421</td>\n",
       "    </tr>\n",
       "    <tr>\n",
       "      <th>std</th>\n",
       "      <td>1.139089</td>\n",
       "      <td>1.554696e+05</td>\n",
       "      <td>6.345109</td>\n",
       "      <td>8.127670</td>\n",
       "      <td>12.686037</td>\n",
       "      <td>1367.136704</td>\n",
       "    </tr>\n",
       "    <tr>\n",
       "      <th>min</th>\n",
       "      <td>0.000000</td>\n",
       "      <td>1.000000e+04</td>\n",
       "      <td>1.000000</td>\n",
       "      <td>1.000000</td>\n",
       "      <td>1.000000</td>\n",
       "      <td>10.000000</td>\n",
       "    </tr>\n",
       "    <tr>\n",
       "      <th>25%</th>\n",
       "      <td>1.000000</td>\n",
       "      <td>4.300000e+04</td>\n",
       "      <td>5.000000</td>\n",
       "      <td>4.000000</td>\n",
       "      <td>9.000000</td>\n",
       "      <td>40.000000</td>\n",
       "    </tr>\n",
       "    <tr>\n",
       "      <th>50%</th>\n",
       "      <td>2.000000</td>\n",
       "      <td>6.000000e+04</td>\n",
       "      <td>9.000000</td>\n",
       "      <td>6.000000</td>\n",
       "      <td>14.000000</td>\n",
       "      <td>55.000000</td>\n",
       "    </tr>\n",
       "    <tr>\n",
       "      <th>75%</th>\n",
       "      <td>3.000000</td>\n",
       "      <td>1.100000e+05</td>\n",
       "      <td>12.000000</td>\n",
       "      <td>11.000000</td>\n",
       "      <td>19.000000</td>\n",
       "      <td>82.000000</td>\n",
       "    </tr>\n",
       "    <tr>\n",
       "      <th>max</th>\n",
       "      <td>6.000000</td>\n",
       "      <td>3.000000e+06</td>\n",
       "      <td>110.000000</td>\n",
       "      <td>84.000000</td>\n",
       "      <td>97.000000</td>\n",
       "      <td>170000.000000</td>\n",
       "    </tr>\n",
       "  </tbody>\n",
       "</table>\n",
       "</div>"
      ],
      "text/plain": [
       "         room_count         price    time_metro         floor         attic  \\\n",
       "count  24387.000000  2.438700e+04  24387.000000  24387.000000  24387.000000   \n",
       "mean       2.167548  1.082806e+05      9.419363      8.473162     16.028089   \n",
       "std        1.139089  1.554696e+05      6.345109      8.127670     12.686037   \n",
       "min        0.000000  1.000000e+04      1.000000      1.000000      1.000000   \n",
       "25%        1.000000  4.300000e+04      5.000000      4.000000      9.000000   \n",
       "50%        2.000000  6.000000e+04      9.000000      6.000000     14.000000   \n",
       "75%        3.000000  1.100000e+05     12.000000     11.000000     19.000000   \n",
       "max        6.000000  3.000000e+06    110.000000     84.000000     97.000000   \n",
       "\n",
       "              square  \n",
       "count   24387.000000  \n",
       "mean       88.082421  \n",
       "std      1367.136704  \n",
       "min        10.000000  \n",
       "25%        40.000000  \n",
       "50%        55.000000  \n",
       "75%        82.000000  \n",
       "max    170000.000000  "
      ]
     },
     "execution_count": 4,
     "metadata": {},
     "output_type": "execute_result"
    }
   ],
   "source": [
    "df.describe()"
   ]
  },
  {
   "cell_type": "code",
   "execution_count": 5,
   "id": "3b706290",
   "metadata": {},
   "outputs": [
    {
     "name": "stdout",
     "output_type": "stream",
     "text": [
      "<class 'pandas.core.frame.DataFrame'>\n",
      "Int64Index: 24387 entries, 0 to 24388\n",
      "Data columns (total 13 columns):\n",
      " #   Column          Non-Null Count  Dtype \n",
      "---  ------          --------------  ----- \n",
      " 0   room_count      24387 non-null  int64 \n",
      " 1   price           24387 non-null  int64 \n",
      " 2   district        24387 non-null  object\n",
      " 3   area            24387 non-null  object\n",
      " 4   street          24387 non-null  object\n",
      " 5   house           24339 non-null  object\n",
      " 6   metro           24042 non-null  object\n",
      " 7   time_metro      24387 non-null  int64 \n",
      " 8   facilities      24387 non-null  object\n",
      " 9   floor           24387 non-null  int64 \n",
      " 10  attic           24387 non-null  int64 \n",
      " 11  square          24387 non-null  int64 \n",
      " 12  transport_type  23645 non-null  object\n",
      "dtypes: int64(6), object(7)\n",
      "memory usage: 2.6+ MB\n"
     ]
    }
   ],
   "source": [
    "df.info()"
   ]
  },
  {
   "cell_type": "code",
   "execution_count": 6,
   "id": "d4fcb4b0",
   "metadata": {},
   "outputs": [
    {
     "data": {
      "text/html": [
       "<div>\n",
       "<style scoped>\n",
       "    .dataframe tbody tr th:only-of-type {\n",
       "        vertical-align: middle;\n",
       "    }\n",
       "\n",
       "    .dataframe tbody tr th {\n",
       "        vertical-align: top;\n",
       "    }\n",
       "\n",
       "    .dataframe thead th {\n",
       "        text-align: right;\n",
       "    }\n",
       "</style>\n",
       "<table border=\"1\" class=\"dataframe\">\n",
       "  <thead>\n",
       "    <tr style=\"text-align: right;\">\n",
       "      <th></th>\n",
       "      <th>district</th>\n",
       "      <th>area</th>\n",
       "      <th>street</th>\n",
       "      <th>house</th>\n",
       "      <th>metro</th>\n",
       "      <th>facilities</th>\n",
       "      <th>transport_type</th>\n",
       "    </tr>\n",
       "  </thead>\n",
       "  <tbody>\n",
       "    <tr>\n",
       "      <th>count</th>\n",
       "      <td>24387</td>\n",
       "      <td>24387</td>\n",
       "      <td>24387</td>\n",
       "      <td>24339</td>\n",
       "      <td>24042</td>\n",
       "      <td>24387</td>\n",
       "      <td>23645</td>\n",
       "    </tr>\n",
       "    <tr>\n",
       "      <th>unique</th>\n",
       "      <td>9</td>\n",
       "      <td>120</td>\n",
       "      <td>1860</td>\n",
       "      <td>2305</td>\n",
       "      <td>297</td>\n",
       "      <td>937</td>\n",
       "      <td>2</td>\n",
       "    </tr>\n",
       "    <tr>\n",
       "      <th>top</th>\n",
       "      <td>ЦАО</td>\n",
       "      <td>Пресненский</td>\n",
       "      <td>1-й Красногвардейский проезд</td>\n",
       "      <td>3</td>\n",
       "      <td>Смоленская</td>\n",
       "      <td>[Можно с детьми, Ванна, Стиральная машина, Меб...</td>\n",
       "      <td>пешком</td>\n",
       "    </tr>\n",
       "    <tr>\n",
       "      <th>freq</th>\n",
       "      <td>5241</td>\n",
       "      <td>1596</td>\n",
       "      <td>418</td>\n",
       "      <td>669</td>\n",
       "      <td>341</td>\n",
       "      <td>1382</td>\n",
       "      <td>21517</td>\n",
       "    </tr>\n",
       "  </tbody>\n",
       "</table>\n",
       "</div>"
      ],
      "text/plain": [
       "       district         area                        street  house       metro  \\\n",
       "count     24387        24387                         24387  24339       24042   \n",
       "unique        9          120                          1860   2305         297   \n",
       "top         ЦАО  Пресненский  1-й Красногвардейский проезд      3  Смоленская   \n",
       "freq       5241         1596                           418    669         341   \n",
       "\n",
       "                                               facilities transport_type  \n",
       "count                                               24387          23645  \n",
       "unique                                                937              2  \n",
       "top     [Можно с детьми, Ванна, Стиральная машина, Меб...         пешком  \n",
       "freq                                                 1382          21517  "
      ]
     },
     "execution_count": 6,
     "metadata": {},
     "output_type": "execute_result"
    }
   ],
   "source": [
    "df.describe(include=['object'])"
   ]
  },
  {
   "cell_type": "markdown",
   "id": "e5da8fdf",
   "metadata": {},
   "source": [
    "# Линейная регрессия."
   ]
  },
  {
   "cell_type": "markdown",
   "id": "b3a78d26",
   "metadata": {},
   "source": [
    "## Предобработка."
   ]
  },
  {
   "cell_type": "code",
   "execution_count": 7,
   "id": "2a8ad9aa",
   "metadata": {},
   "outputs": [],
   "source": [
    "df = df.drop(['house', 'street'], axis=1)"
   ]
  },
  {
   "cell_type": "code",
   "execution_count": 8,
   "id": "9934fcf6",
   "metadata": {},
   "outputs": [],
   "source": [
    "df['metro'] = df['metro'].fillna('Unknown')\n",
    "df['transport_type'].fillna(df['transport_type'].mode(), inplace=True)"
   ]
  },
  {
   "cell_type": "code",
   "execution_count": 9,
   "id": "9d93a8d9",
   "metadata": {},
   "outputs": [
    {
     "name": "stdout",
     "output_type": "stream",
     "text": [
      "Распределение ненормальное\n"
     ]
    },
    {
     "data": {
      "image/png": "[encoded data removed]",
      "text/plain": [
       "<Figure size 1080x360 with 1 Axes>"
      ]
     },
     "metadata": {
      "needs_background": "light"
     },
     "output_type": "display_data"
    }
   ],
   "source": [
    "fig, ax = plt.subplots(figsize=(15, 5))\n",
    "sns.histplot(df['price'], kde=True)\n",
    "ax.set_xlim(0, 200000)\n",
    "\n",
    "if stats.shapiro(df.price).pvalue >= 0.05:\n",
    "    print('Распределение нормальное')\n",
    "else:\n",
    "    print('Распределение ненормальное')"
   ]
  },
  {
   "cell_type": "code",
   "execution_count": 10,
   "id": "489157d3",
   "metadata": {},
   "outputs": [],
   "source": [
    "df['price_log'] = np.log(df.price)"
   ]
  },
  {
   "cell_type": "code",
   "execution_count": 11,
   "id": "6e59ed7f",
   "metadata": {
    "scrolled": false
   },
   "outputs": [
    {
     "name": "stdout",
     "output_type": "stream",
     "text": [
      "Распределение ненормальное\n"
     ]
    },
    {
     "data": {
      "image/png": "[encoded data removed]",
      "text/plain": [
       "<Figure size 1080x360 with 1 Axes>"
      ]
     },
     "metadata": {
      "needs_background": "light"
     },
     "output_type": "display_data"
    }
   ],
   "source": [
    "fig, ax = plt.subplots(figsize=(15, 5))\n",
    "sns.histplot(df.price_log, kde=True)\n",
    "\n",
    "if stats.shapiro(df.price_log).pvalue >= 0.05:\n",
    "    print('Распределение нормальное')\n",
    "else:\n",
    "    print('Распределение ненормальное')"
   ]
  },
  {
   "cell_type": "code",
   "execution_count": 12,
   "id": "38e63f5e",
   "metadata": {},
   "outputs": [],
   "source": [
    "# бинаризуем столбец facilities\n",
    "mlb = MultiLabelBinarizer()\n",
    "df_bin = pd.DataFrame(mlb.fit_transform(df['facilities']),\n",
    "                      columns=mlb.classes_,\n",
    "                      index=df.index)\n",
    "df_bin = df_bin.drop('Душевая кабина', axis=1)\n",
    "df_lin = pd.concat([df, df_bin], axis=1)\n",
    "df_lin = df_lin.drop(['facilities'], axis=1)\n",
    "df_lin = pd.get_dummies(df_lin, drop_first=True)"
   ]
  },
  {
   "cell_type": "code",
   "execution_count": 13,
   "id": "36d6c600",
   "metadata": {},
   "outputs": [
    {
     "data": {
      "text/plain": [
       "(24387, 443)"
      ]
     },
     "execution_count": 13,
     "metadata": {},
     "output_type": "execute_result"
    }
   ],
   "source": [
    "df_lin.shape"
   ]
  },
  {
   "cell_type": "code",
   "execution_count": 14,
   "id": "9040a073",
   "metadata": {},
   "outputs": [],
   "source": [
    "#удаляем признаки с корреляцией выше 0.89\n",
    "corr_matrix = df_lin.corr()\n",
    "high_corr_cols = set()\n",
    "for i in range(len(corr_matrix.columns)):\n",
    "    for j in range(i):\n",
    "        if abs(corr_matrix.iloc[i, j]) > 0.89:\n",
    "            colname = corr_matrix.columns[i]\n",
    "            high_corr_cols.add(colname)\n",
    "df_lin.drop(high_corr_cols, axis=1, inplace=True)"
   ]
  },
  {
   "cell_type": "code",
   "execution_count": 15,
   "id": "eba615aa",
   "metadata": {},
   "outputs": [
    {
     "data": {
      "text/plain": [
       "(24387, 440)"
      ]
     },
     "execution_count": 15,
     "metadata": {},
     "output_type": "execute_result"
    }
   ],
   "source": [
    "df_lin.shape"
   ]
  },
  {
   "cell_type": "markdown",
   "id": "d2bb9e43",
   "metadata": {},
   "source": [
    "## Обучение модели."
   ]
  },
  {
   "cell_type": "code",
   "execution_count": 16,
   "id": "e3551111",
   "metadata": {},
   "outputs": [],
   "source": [
    "X = df_lin.drop(columns=['price', 'price_log'], axis=1)\n",
    "y = df_lin['price_log']\n",
    "X_train, X_test, y_train, y_test = train_test_split(X,\n",
    "                                                    y,\n",
    "                                                    test_size=0.20,\n",
    "                                                    shuffle=True,\n",
    "                                                    random_state=RAND)\n",
    "\n",
    "std = StandardScaler()\n",
    "X_train_std = std.fit_transform(X_train)\n",
    "X_test_std = std.transform(X_test)\n",
    "y_train_exp = np.exp(y_train)\n",
    "y_test_exp = np.exp(y_test)"
   ]
  },
  {
   "cell_type": "code",
   "execution_count": 17,
   "id": "f330636d",
   "metadata": {},
   "outputs": [
    {
     "data": {
      "text/plain": [
       "LinearRegression()"
      ]
     },
     "execution_count": 17,
     "metadata": {},
     "output_type": "execute_result"
    }
   ],
   "source": [
    "lr_std = LinearRegression()\n",
    "lr_std.fit(X_train_std, y_train)"
   ]
  },
  {
   "cell_type": "code",
   "execution_count": 18,
   "id": "28c79abd",
   "metadata": {},
   "outputs": [],
   "source": [
    "def check_overfitting(model, X_train, y_train, X_test, y_test, metric_fun):\n",
    "    \"\"\"\n",
    "    Проверка на overfitting для регрессии\n",
    "    \"\"\"\n",
    "    y_pred_train = model.predict(X_train)\n",
    "    y_pred_test = model.predict(X_test)\n",
    "    value_train = metric_fun(y_train, y_pred_train)\n",
    "    value_test = metric_fun(y_test, y_pred_test)\n",
    "\n",
    "    print(f'{metric_fun.__name__} train: %.3f' % value_train)\n",
    "    print(f'{metric_fun.__name__} test: %.3f' % value_test)\n",
    "    print(f'delta = {(abs(value_train - value_test)/value_test*100):.1f} %')"
   ]
  },
  {
   "cell_type": "code",
   "execution_count": 19,
   "id": "96f654b5",
   "metadata": {},
   "outputs": [],
   "source": [
    "y_pred_std = lr_std.predict(X_test_std)\n",
    "\n",
    "metrics = get_metrics_regression(y_test_exp,\n",
    "                                 y_pred_std,\n",
    "                                 X_test_std,\n",
    "                                 name='Lin Test')"
   ]
  },
  {
   "cell_type": "code",
   "execution_count": 20,
   "id": "749b3f30",
   "metadata": {},
   "outputs": [
    {
     "name": "stdout",
     "output_type": "stream",
     "text": [
      "mean_squared_error train: 37989547368.288\n",
      "mean_squared_error test: 5009871604474901954560.000\n",
      "delta = 100.0 %\n"
     ]
    }
   ],
   "source": [
    "check_overfitting(lr_std, X_train_std, y_train_exp, X_test_std, y_test_exp, mean_squared_error)"
   ]
  },
  {
   "cell_type": "code",
   "execution_count": 21,
   "id": "61dedd41",
   "metadata": {},
   "outputs": [
    {
     "data": {
      "text/html": [
       "<div>\n",
       "<style scoped>\n",
       "    .dataframe tbody tr th:only-of-type {\n",
       "        vertical-align: middle;\n",
       "    }\n",
       "\n",
       "    .dataframe tbody tr th {\n",
       "        vertical-align: top;\n",
       "    }\n",
       "\n",
       "    .dataframe thead th {\n",
       "        text-align: right;\n",
       "    }\n",
       "</style>\n",
       "<table border=\"1\" class=\"dataframe\">\n",
       "  <thead>\n",
       "    <tr style=\"text-align: right;\">\n",
       "      <th></th>\n",
       "      <th>model</th>\n",
       "      <th>MAE</th>\n",
       "      <th>MSE</th>\n",
       "      <th>RMSE</th>\n",
       "      <th>RMSLE</th>\n",
       "      <th>R2 adjusted</th>\n",
       "      <th>MPE_%</th>\n",
       "      <th>MAPE_%</th>\n",
       "      <th>WAPE_%</th>\n",
       "    </tr>\n",
       "  </thead>\n",
       "  <tbody>\n",
       "    <tr>\n",
       "      <th>0</th>\n",
       "      <td>Lin Test</td>\n",
       "      <td>2.026956e+09</td>\n",
       "      <td>5.009872e+21</td>\n",
       "      <td>7.078045e+10</td>\n",
       "      <td>8.725869</td>\n",
       "      <td>-3.221079e+11</td>\n",
       "      <td>-2.496898e+06</td>\n",
       "      <td>2.497098e+06</td>\n",
       "      <td>1.985957e+06</td>\n",
       "    </tr>\n",
       "  </tbody>\n",
       "</table>\n",
       "</div>"
      ],
      "text/plain": [
       "      model           MAE           MSE          RMSE     RMSLE   R2 adjusted  \\\n",
       "0  Lin Test  2.026956e+09  5.009872e+21  7.078045e+10  8.725869 -3.221079e+11   \n",
       "\n",
       "          MPE_%        MAPE_%        WAPE_%  \n",
       "0 -2.496898e+06  2.497098e+06  1.985957e+06  "
      ]
     },
     "execution_count": 21,
     "metadata": {},
     "output_type": "execute_result"
    }
   ],
   "source": [
    "metrics"
   ]
  },
  {
   "cell_type": "markdown",
   "id": "1e7c28e3",
   "metadata": {},
   "source": [
    "# Random Forest"
   ]
  },
  {
   "cell_type": "markdown",
   "id": "944fc7f5",
   "metadata": {},
   "source": [
    "## Предобработка."
   ]
  },
  {
   "cell_type": "code",
   "execution_count": 114,
   "id": "659bae3c",
   "metadata": {},
   "outputs": [],
   "source": [
    "df = pd.read_json('cian_data.json')\n",
    "df = df.drop(['house', 'street'], axis=1)\n",
    "df[['metro', 'transport_type']] = df[['metro',\n",
    "                                      'transport_type']].fillna('Unknown')\n",
    "\n",
    "mlb = MultiLabelBinarizer()\n",
    "df_bin = pd.DataFrame(mlb.fit_transform(df['facilities']),\n",
    "                      columns=mlb.classes_,\n",
    "                      index=df.index)\n",
    "df_bin = pd.concat([df, df_bin], axis=1)\n",
    "df_bin = df_bin.drop(['facilities'], axis=1)\n",
    "df_bin = pd.get_dummies(df_bin)\n",
    "\n",
    "X = df_bin.drop(columns=['price'], axis=1)\n",
    "y = df_bin['price']\n",
    "\n",
    "X_train, X_test, y_train, y_test = train_test_split(X,\n",
    "                                                    y,\n",
    "                                                    test_size=0.20,\n",
    "                                                    shuffle=True,\n",
    "                                                    random_state=RAND)"
   ]
  },
  {
   "cell_type": "markdown",
   "id": "1d27f323",
   "metadata": {},
   "source": [
    "## Обучение модели."
   ]
  },
  {
   "cell_type": "code",
   "execution_count": 80,
   "id": "97ce7dfc",
   "metadata": {},
   "outputs": [
    {
     "name": "stderr",
     "output_type": "stream",
     "text": [
      "[Parallel(n_jobs=-1)]: Using backend ThreadingBackend with 8 concurrent workers.\n",
      "[Parallel(n_jobs=-1)]: Done  34 tasks      | elapsed:  9.1min\n",
      "[Parallel(n_jobs=-1)]: Done 100 out of 100 | elapsed: 25.1min finished\n"
     ]
    },
    {
     "data": {
      "text/plain": [
       "RandomForestRegressor(criterion='mae', n_jobs=-1, random_state=10, verbose=1)"
      ]
     },
     "execution_count": 80,
     "metadata": {},
     "output_type": "execute_result"
    }
   ],
   "source": [
    "rfr = RandomForestRegressor(random_state=RAND,\n",
    "                            verbose=1,\n",
    "                            criterion='mae',\n",
    "                            n_jobs=-1)\n",
    "rfr.fit(X_train, y_train)"
   ]
  },
  {
   "cell_type": "code",
   "execution_count": 81,
   "id": "155d74d7",
   "metadata": {
    "scrolled": true
   },
   "outputs": [
    {
     "name": "stderr",
     "output_type": "stream",
     "text": [
      "[Parallel(n_jobs=8)]: Using backend ThreadingBackend with 8 concurrent workers.\n",
      "[Parallel(n_jobs=8)]: Done  34 tasks      | elapsed:    0.0s\n",
      "[Parallel(n_jobs=8)]: Done 100 out of 100 | elapsed:    0.0s finished\n"
     ]
    }
   ],
   "source": [
    "y_pred = rfr.predict(X_test)\n",
    "\n",
    "metrics = metrics.append(\n",
    "    get_metrics_regression(y_test, y_pred, X_test,\n",
    "                           'RandomForestRegressor Test'))"
   ]
  },
  {
   "cell_type": "code",
   "execution_count": 82,
   "id": "a5f5fe81",
   "metadata": {},
   "outputs": [
    {
     "name": "stderr",
     "output_type": "stream",
     "text": [
      "[Parallel(n_jobs=8)]: Using backend ThreadingBackend with 8 concurrent workers.\n",
      "[Parallel(n_jobs=8)]: Done  34 tasks      | elapsed:    0.0s\n",
      "[Parallel(n_jobs=8)]: Done 100 out of 100 | elapsed:    0.1s finished\n",
      "[Parallel(n_jobs=8)]: Using backend ThreadingBackend with 8 concurrent workers.\n",
      "[Parallel(n_jobs=8)]: Done  34 tasks      | elapsed:    0.0s\n",
      "[Parallel(n_jobs=8)]: Done 100 out of 100 | elapsed:    0.0s finished\n"
     ]
    },
    {
     "name": "stdout",
     "output_type": "stream",
     "text": [
      "mean_absolute_error train: 8322.868\n",
      "mean_absolute_error test: 19752.408\n",
      "delta = 57.9 %\n"
     ]
    }
   ],
   "source": [
    "check_overfitting(rfr, X_train, y_train, X_test, y_test, mean_absolute_error)"
   ]
  },
  {
   "cell_type": "code",
   "execution_count": 84,
   "id": "b66a8b0b",
   "metadata": {},
   "outputs": [
    {
     "data": {
      "text/html": [
       "<div>\n",
       "<style scoped>\n",
       "    .dataframe tbody tr th:only-of-type {\n",
       "        vertical-align: middle;\n",
       "    }\n",
       "\n",
       "    .dataframe tbody tr th {\n",
       "        vertical-align: top;\n",
       "    }\n",
       "\n",
       "    .dataframe thead th {\n",
       "        text-align: right;\n",
       "    }\n",
       "</style>\n",
       "<table border=\"1\" class=\"dataframe\">\n",
       "  <thead>\n",
       "    <tr style=\"text-align: right;\">\n",
       "      <th></th>\n",
       "      <th>model</th>\n",
       "      <th>MAE</th>\n",
       "      <th>MSE</th>\n",
       "      <th>RMSE</th>\n",
       "      <th>RMSLE</th>\n",
       "      <th>R2 adjusted</th>\n",
       "      <th>MPE_%</th>\n",
       "      <th>MAPE_%</th>\n",
       "      <th>WAPE_%</th>\n",
       "    </tr>\n",
       "  </thead>\n",
       "  <tbody>\n",
       "    <tr>\n",
       "      <th>0</th>\n",
       "      <td>Lin Test</td>\n",
       "      <td>2.026956e+09</td>\n",
       "      <td>5.009872e+21</td>\n",
       "      <td>7.078045e+10</td>\n",
       "      <td>8.725869</td>\n",
       "      <td>-3.221079e+11</td>\n",
       "      <td>-2.496898e+06</td>\n",
       "      <td>2.497098e+06</td>\n",
       "      <td>1.985957e+06</td>\n",
       "    </tr>\n",
       "    <tr>\n",
       "      <th>0</th>\n",
       "      <td>RandomForestRegressor Test</td>\n",
       "      <td>1.975241e+04</td>\n",
       "      <td>2.409945e+09</td>\n",
       "      <td>4.909120e+04</td>\n",
       "      <td>0.227525</td>\n",
       "      <td>8.447386e-01</td>\n",
       "      <td>-6.042063e+00</td>\n",
       "      <td>1.730181e+01</td>\n",
       "      <td>1.935288e+01</td>\n",
       "    </tr>\n",
       "  </tbody>\n",
       "</table>\n",
       "</div>"
      ],
      "text/plain": [
       "                        model           MAE           MSE          RMSE  \\\n",
       "0                    Lin Test  2.026956e+09  5.009872e+21  7.078045e+10   \n",
       "0  RandomForestRegressor Test  1.975241e+04  2.409945e+09  4.909120e+04   \n",
       "\n",
       "      RMSLE   R2 adjusted         MPE_%        MAPE_%        WAPE_%  \n",
       "0  8.725869 -3.221079e+11 -2.496898e+06  2.497098e+06  1.985957e+06  \n",
       "0  0.227525  8.447386e-01 -6.042063e+00  1.730181e+01  1.935288e+01  "
      ]
     },
     "execution_count": 84,
     "metadata": {},
     "output_type": "execute_result"
    }
   ],
   "source": [
    "metrics"
   ]
  },
  {
   "cell_type": "markdown",
   "id": "9e8f8950",
   "metadata": {},
   "source": [
    "# Gradient boosting"
   ]
  },
  {
   "cell_type": "markdown",
   "id": "913768b5",
   "metadata": {},
   "source": [
    "## LightGBM Baseline"
   ]
  },
  {
   "cell_type": "code",
   "execution_count": 117,
   "id": "12b1d2a5",
   "metadata": {},
   "outputs": [
    {
     "name": "stdout",
     "output_type": "stream",
     "text": [
      "<class 'pandas.core.frame.DataFrame'>\n",
      "Int64Index: 24387 entries, 0 to 24388\n",
      "Data columns (total 11 columns):\n",
      " #   Column          Non-Null Count  Dtype \n",
      "---  ------          --------------  ----- \n",
      " 0   room_count      24387 non-null  int64 \n",
      " 1   price           24387 non-null  int64 \n",
      " 2   district        24387 non-null  object\n",
      " 3   area            24387 non-null  object\n",
      " 4   metro           24387 non-null  object\n",
      " 5   time_metro      24387 non-null  int64 \n",
      " 6   facilities      24387 non-null  object\n",
      " 7   floor           24387 non-null  int64 \n",
      " 8   attic           24387 non-null  int64 \n",
      " 9   square          24387 non-null  int64 \n",
      " 10  transport_type  24387 non-null  object\n",
      "dtypes: int64(6), object(5)\n",
      "memory usage: 2.2+ MB\n"
     ]
    }
   ],
   "source": [
    "df.info()"
   ]
  },
  {
   "cell_type": "code",
   "execution_count": 118,
   "id": "9e399ed4",
   "metadata": {},
   "outputs": [],
   "source": [
    "mlb = MultiLabelBinarizer()\n",
    "df_bi = pd.DataFrame(mlb.fit_transform(df[\"facilities\"]),\n",
    "                      columns=mlb.classes_,\n",
    "                      index=df.index)\n",
    "df = pd.concat([df, df_bi], axis=1)\n",
    "df = df.drop([\"facilities\"], axis=1)"
   ]
  },
  {
   "cell_type": "code",
   "execution_count": 119,
   "id": "a914318a",
   "metadata": {},
   "outputs": [],
   "source": [
    "df.loc[:, df.dtypes == \"object\"] = df.select_dtypes(\n",
    "    [\"object\"]).apply(lambda x: x.astype(\"category\"))"
   ]
  },
  {
   "cell_type": "code",
   "execution_count": 120,
   "id": "75f19e87",
   "metadata": {},
   "outputs": [],
   "source": [
    "cols_translit = [\n",
    "    translit(x, language_code='ru', reversed=True).replace(' ', '_')\n",
    "    for x in df.columns\n",
    "]\n",
    "\n",
    "df.columns = cols_translit\n",
    "df = df.rename(columns=lambda x: re.sub('[^A-Za-z0-9_]+', '', x))"
   ]
  },
  {
   "cell_type": "code",
   "execution_count": 121,
   "id": "95c6a960",
   "metadata": {},
   "outputs": [],
   "source": [
    "X = df.drop(['price'], axis=1)\n",
    "y = df['price']\n",
    "\n",
    "X_train, X_test, y_train, y_test = train_test_split(X,\n",
    "                                                    y,\n",
    "                                                    test_size=0.2,\n",
    "                                                    shuffle=True,\n",
    "                                                    random_state=RAND)\n",
    "\n",
    "X_train_, X_val, y_train_, y_val = train_test_split(X_train,\n",
    "                                                    y_train,\n",
    "                                                    test_size=0.16,\n",
    "                                                    shuffle=True,\n",
    "                                                    random_state=RAND)"
   ]
  },
  {
   "cell_type": "code",
   "execution_count": 122,
   "id": "19c46b9c",
   "metadata": {},
   "outputs": [],
   "source": [
    "lgb = LGBMRegressor(random_state=RAND, objective='mae')\n",
    "eval_set = [(X_val, y_val)]\n",
    "\n",
    "lgb.fit(X_train_,\n",
    "        y_train_,\n",
    "        eval_metric=\"mae\",\n",
    "        eval_set=eval_set,\n",
    "        verbose=False,\n",
    "        early_stopping_rounds=100)\n",
    "\n",
    "y_pred = lgb.predict(X_test)"
   ]
  },
  {
   "cell_type": "code",
   "execution_count": 123,
   "id": "b6b1e374",
   "metadata": {},
   "outputs": [
    {
     "name": "stdout",
     "output_type": "stream",
     "text": [
      "mean_absolute_error train: 22843.573\n",
      "mean_absolute_error test: 22702.340\n",
      "delta = 0.6 %\n"
     ]
    }
   ],
   "source": [
    "check_overfitting(lgb, X_train_, y_train_, X_test, y_test, mean_absolute_error)"
   ]
  },
  {
   "cell_type": "code",
   "execution_count": 124,
   "id": "d1b28968",
   "metadata": {},
   "outputs": [
    {
     "data": {
      "text/html": [
       "<div>\n",
       "<style scoped>\n",
       "    .dataframe tbody tr th:only-of-type {\n",
       "        vertical-align: middle;\n",
       "    }\n",
       "\n",
       "    .dataframe tbody tr th {\n",
       "        vertical-align: top;\n",
       "    }\n",
       "\n",
       "    .dataframe thead th {\n",
       "        text-align: right;\n",
       "    }\n",
       "</style>\n",
       "<table border=\"1\" class=\"dataframe\">\n",
       "  <thead>\n",
       "    <tr style=\"text-align: right;\">\n",
       "      <th></th>\n",
       "      <th>model</th>\n",
       "      <th>MAE</th>\n",
       "      <th>MSE</th>\n",
       "      <th>RMSE</th>\n",
       "      <th>RMSLE</th>\n",
       "      <th>R2 adjusted</th>\n",
       "      <th>MPE_%</th>\n",
       "      <th>MAPE_%</th>\n",
       "      <th>WAPE_%</th>\n",
       "    </tr>\n",
       "  </thead>\n",
       "  <tbody>\n",
       "    <tr>\n",
       "      <th>0</th>\n",
       "      <td>Lin Test</td>\n",
       "      <td>2.026956e+09</td>\n",
       "      <td>5.009872e+21</td>\n",
       "      <td>7.078045e+10</td>\n",
       "      <td>8.725869</td>\n",
       "      <td>-3.221079e+11</td>\n",
       "      <td>-2.496898e+06</td>\n",
       "      <td>2.497098e+06</td>\n",
       "      <td>1.985957e+06</td>\n",
       "    </tr>\n",
       "    <tr>\n",
       "      <th>0</th>\n",
       "      <td>RandomForestRegressor Test</td>\n",
       "      <td>1.975241e+04</td>\n",
       "      <td>2.409945e+09</td>\n",
       "      <td>4.909120e+04</td>\n",
       "      <td>0.227525</td>\n",
       "      <td>8.447386e-01</td>\n",
       "      <td>-6.042063e+00</td>\n",
       "      <td>1.730181e+01</td>\n",
       "      <td>1.935288e+01</td>\n",
       "    </tr>\n",
       "    <tr>\n",
       "      <th>0</th>\n",
       "      <td>LGBM Test</td>\n",
       "      <td>2.270234e+04</td>\n",
       "      <td>4.903732e+09</td>\n",
       "      <td>7.002665e+04</td>\n",
       "      <td>0.237266</td>\n",
       "      <td>7.117907e-01</td>\n",
       "      <td>-2.236760e+00</td>\n",
       "      <td>1.678097e+01</td>\n",
       "      <td>2.224315e+01</td>\n",
       "    </tr>\n",
       "  </tbody>\n",
       "</table>\n",
       "</div>"
      ],
      "text/plain": [
       "                        model           MAE           MSE          RMSE  \\\n",
       "0                    Lin Test  2.026956e+09  5.009872e+21  7.078045e+10   \n",
       "0  RandomForestRegressor Test  1.975241e+04  2.409945e+09  4.909120e+04   \n",
       "0                   LGBM Test  2.270234e+04  4.903732e+09  7.002665e+04   \n",
       "\n",
       "      RMSLE   R2 adjusted         MPE_%        MAPE_%        WAPE_%  \n",
       "0  8.725869 -3.221079e+11 -2.496898e+06  2.497098e+06  1.985957e+06  \n",
       "0  0.227525  8.447386e-01 -6.042063e+00  1.730181e+01  1.935288e+01  \n",
       "0  0.237266  7.117907e-01 -2.236760e+00  1.678097e+01  2.224315e+01  "
      ]
     },
     "execution_count": 124,
     "metadata": {},
     "output_type": "execute_result"
    }
   ],
   "source": [
    "metrics = metrics.append(\n",
    "    get_metrics_regression(y_test, y_pred, X_test, 'LGBM Test'))\n",
    "\n",
    "metrics"
   ]
  },
  {
   "cell_type": "markdown",
   "id": "825d9e7b",
   "metadata": {},
   "source": [
    "## CatBoost Baseline"
   ]
  },
  {
   "cell_type": "code",
   "execution_count": 125,
   "id": "49b03ec5",
   "metadata": {},
   "outputs": [],
   "source": [
    "cat_f = X_val.select_dtypes(\"category\").columns.tolist()\n",
    "\n",
    "cat = CatBoostRegressor(random_state=RAND,\n",
    "                        eval_metric=\"MAE\",\n",
    "                        cat_features=cat_f)\n",
    "\n",
    "eval_set = [(X_val, y_val)]\n",
    "\n",
    "cat.fit(X_train_,\n",
    "        y_train_,\n",
    "        eval_set=eval_set,\n",
    "        verbose=False,\n",
    "        early_stopping_rounds=100)\n",
    "\n",
    "y_pred = cat.predict(X_test)"
   ]
  },
  {
   "cell_type": "code",
   "execution_count": 126,
   "id": "98d5f5e2",
   "metadata": {},
   "outputs": [
    {
     "name": "stdout",
     "output_type": "stream",
     "text": [
      "mean_absolute_error train: 18357.162\n",
      "mean_absolute_error test: 21845.731\n",
      "delta = 16.0 %\n"
     ]
    }
   ],
   "source": [
    "check_overfitting(cat, X_train_, y_train_, X_test, y_test, mean_absolute_error)"
   ]
  },
  {
   "cell_type": "code",
   "execution_count": 127,
   "id": "33e540ac",
   "metadata": {},
   "outputs": [
    {
     "data": {
      "text/html": [
       "<div>\n",
       "<style scoped>\n",
       "    .dataframe tbody tr th:only-of-type {\n",
       "        vertical-align: middle;\n",
       "    }\n",
       "\n",
       "    .dataframe tbody tr th {\n",
       "        vertical-align: top;\n",
       "    }\n",
       "\n",
       "    .dataframe thead th {\n",
       "        text-align: right;\n",
       "    }\n",
       "</style>\n",
       "<table border=\"1\" class=\"dataframe\">\n",
       "  <thead>\n",
       "    <tr style=\"text-align: right;\">\n",
       "      <th></th>\n",
       "      <th>model</th>\n",
       "      <th>MAE</th>\n",
       "      <th>MSE</th>\n",
       "      <th>RMSE</th>\n",
       "      <th>RMSLE</th>\n",
       "      <th>R2 adjusted</th>\n",
       "      <th>MPE_%</th>\n",
       "      <th>MAPE_%</th>\n",
       "      <th>WAPE_%</th>\n",
       "    </tr>\n",
       "  </thead>\n",
       "  <tbody>\n",
       "    <tr>\n",
       "      <th>0</th>\n",
       "      <td>Lin Test</td>\n",
       "      <td>2.026956e+09</td>\n",
       "      <td>5.009872e+21</td>\n",
       "      <td>7.078045e+10</td>\n",
       "      <td>8.725869</td>\n",
       "      <td>-3.221079e+11</td>\n",
       "      <td>-2.496898e+06</td>\n",
       "      <td>2.497098e+06</td>\n",
       "      <td>1.985957e+06</td>\n",
       "    </tr>\n",
       "    <tr>\n",
       "      <th>0</th>\n",
       "      <td>RandomForestRegressor Test</td>\n",
       "      <td>1.975241e+04</td>\n",
       "      <td>2.409945e+09</td>\n",
       "      <td>4.909120e+04</td>\n",
       "      <td>0.227525</td>\n",
       "      <td>8.447386e-01</td>\n",
       "      <td>-6.042063e+00</td>\n",
       "      <td>1.730181e+01</td>\n",
       "      <td>1.935288e+01</td>\n",
       "    </tr>\n",
       "    <tr>\n",
       "      <th>0</th>\n",
       "      <td>LGBM Test</td>\n",
       "      <td>2.270234e+04</td>\n",
       "      <td>4.903732e+09</td>\n",
       "      <td>7.002665e+04</td>\n",
       "      <td>0.237266</td>\n",
       "      <td>7.117907e-01</td>\n",
       "      <td>-2.236760e+00</td>\n",
       "      <td>1.678097e+01</td>\n",
       "      <td>2.224315e+01</td>\n",
       "    </tr>\n",
       "    <tr>\n",
       "      <th>0</th>\n",
       "      <td>Cat Test</td>\n",
       "      <td>2.184573e+04</td>\n",
       "      <td>2.752059e+09</td>\n",
       "      <td>5.246008e+04</td>\n",
       "      <td>0.237001</td>\n",
       "      <td>8.382519e-01</td>\n",
       "      <td>-5.686587e+00</td>\n",
       "      <td>1.838766e+01</td>\n",
       "      <td>2.140387e+01</td>\n",
       "    </tr>\n",
       "  </tbody>\n",
       "</table>\n",
       "</div>"
      ],
      "text/plain": [
       "                        model           MAE           MSE          RMSE  \\\n",
       "0                    Lin Test  2.026956e+09  5.009872e+21  7.078045e+10   \n",
       "0  RandomForestRegressor Test  1.975241e+04  2.409945e+09  4.909120e+04   \n",
       "0                   LGBM Test  2.270234e+04  4.903732e+09  7.002665e+04   \n",
       "0                    Cat Test  2.184573e+04  2.752059e+09  5.246008e+04   \n",
       "\n",
       "      RMSLE   R2 adjusted         MPE_%        MAPE_%        WAPE_%  \n",
       "0  8.725869 -3.221079e+11 -2.496898e+06  2.497098e+06  1.985957e+06  \n",
       "0  0.227525  8.447386e-01 -6.042063e+00  1.730181e+01  1.935288e+01  \n",
       "0  0.237266  7.117907e-01 -2.236760e+00  1.678097e+01  2.224315e+01  \n",
       "0  0.237001  8.382519e-01 -5.686587e+00  1.838766e+01  2.140387e+01  "
      ]
     },
     "execution_count": 127,
     "metadata": {},
     "output_type": "execute_result"
    }
   ],
   "source": [
    "metrics = metrics.append(\n",
    "    get_metrics_regression(y_test, y_pred, X_test, 'Cat Test'))\n",
    "\n",
    "metrics"
   ]
  },
  {
   "cell_type": "markdown",
   "id": "fe13f282",
   "metadata": {},
   "source": [
    "**Для подбора гиперпараметров будут взяты CatBoost и LightGBM**"
   ]
  },
  {
   "cell_type": "code",
   "execution_count": null,
   "id": "b5129f2f",
   "metadata": {},
   "outputs": [],
   "source": []
  }
 ],
 "metadata": {
  "kernelspec": {
   "display_name": "Python 3 (ipykernel)",
   "language": "python",
   "name": "python3"
  },
  "language_info": {
   "codemirror_mode": {
    "name": "ipython",
    "version": 3
   },
   "file_extension": ".py",
   "mimetype": "text/x-python",
   "name": "python",
   "nbconvert_exporter": "python",
   "pygments_lexer": "ipython3",
   "version": "3.9.12"
  },
  "toc": {
   "base_numbering": 1,
   "nav_menu": {},
   "number_sections": true,
   "sideBar": true,
   "skip_h1_title": false,
   "title_cell": "Table of Contents",
   "title_sidebar": "Contents",
   "toc_cell": false,
   "toc_position": {
    "height": "calc(100% - 180px)",
    "left": "10px",
    "top": "150px",
    "width": "342.875px"
   },
   "toc_section_display": true,
   "toc_window_display": true
  }
 },
 "nbformat": 4,
 "nbformat_minor": 5
}
